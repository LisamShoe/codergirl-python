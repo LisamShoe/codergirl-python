{
 "cells": [
  {
   "cell_type": "markdown",
   "metadata": {},
   "source": [
    "## Import Packages"
   ]
  },
  {
   "cell_type": "code",
   "execution_count": 9,
   "metadata": {},
   "outputs": [],
   "source": [
    "import numpy as np\n",
    "from keras.datasets import mnist\n",
    "from keras.models import Sequential\n",
    "from keras.layers.core import Dense, Dropout, Activation\n",
    "from keras.optimizers import RMSprop\n",
    "from keras import utils\n",
    "import matplotlib.pyplot as plt"
   ]
  },
  {
   "cell_type": "markdown",
   "metadata": {},
   "source": [
    "## Initialize Training Parameters"
   ]
  },
  {
   "cell_type": "code",
   "execution_count": 2,
   "metadata": {},
   "outputs": [],
   "source": [
    "np.random.seed(1671)  # for reproducibility\n",
    "\n",
    "# network and training\n",
    "NB_EPOCH = 20\n",
    "BATCH_SIZE = 128 # Size of \n",
    "VERBOSE = 1\n",
    "NB_CLASSES = 10   # number of outputs = number of digits\n",
    "OPTIMIZER = RMSprop() # optimizer \n",
    "N_HIDDEN = 128 # number of hidden units\n",
    "VALIDATION_SPLIT=0.2 # how much TRAIN is reserved for VALIDATION\n",
    "DROPOUT = 0.3 # Used for regularization\n",
    "RESHAPED = 784 # Number of features to be used"
   ]
  },
  {
   "cell_type": "markdown",
   "metadata": {},
   "source": [
    "## Load MNIST Dataset into training and testing sets\n",
    "* __Problem 1__: Load MINST dataset using Keras function\n",
    "* Load into `X_train`, `y_train`, `X_test`, `y_test`"
   ]
  },
  {
   "cell_type": "code",
   "execution_count": 3,
   "metadata": {},
   "outputs": [],
   "source": [
    "# data: shuffled and split between train and test sets\n",
    "## Problem 1\n",
    "(X_train, y_train), (X_test, y_test) = mnist.load_data()\n"
   ]
  },
  {
   "cell_type": "markdown",
   "metadata": {},
   "source": [
    "## Reshape Input Data Frame\n",
    "* Input data is 28x28 greyscale values\n",
    "* Reshape to a 1D vector with 784 features\n",
    "* Training data consists of 60,000 examples\n",
    "* Final data reshaped into a tensor of 60,000 x 784\n",
    "* __Problem 2__: Reshape `X_train` and `X_test` vectors according to dimensions above\n",
    "* Cast type as `float32`"
   ]
  },
  {
   "cell_type": "code",
   "execution_count": 5,
   "metadata": {},
   "outputs": [],
   "source": [
    "X_train = X_train.reshape(X_train.shape[0], RESHAPED).astype(float)\n",
    "X_test = X_test.reshape(X_test.shape[0], RESHAPED).astype(float)"
   ]
  },
  {
   "cell_type": "code",
   "execution_count": 6,
   "metadata": {},
   "outputs": [
    {
     "data": {
      "text/plain": [
       "(60000, 784)"
      ]
     },
     "execution_count": 6,
     "metadata": {},
     "output_type": "execute_result"
    }
   ],
   "source": [
    "X_train.shape"
   ]
  },
  {
   "cell_type": "markdown",
   "metadata": {},
   "source": [
    "## Normalize Data\n",
    "* Greyscale data can be normalized by maximum value (255)\n",
    "* __Problem 3__: Normalize `X_train` and `X_test` vectors"
   ]
  },
  {
   "cell_type": "code",
   "execution_count": 10,
   "metadata": {},
   "outputs": [
    {
     "name": "stdout",
     "output_type": "stream",
     "text": [
      "60000 train samples\n",
      "10000 test samples\n"
     ]
    }
   ],
   "source": [
    "## Problem 3\n",
    "print(X_train.shape[0], 'train samples')\n",
    "print(X_test.shape[0], 'test samples')"
   ]
  },
  {
   "cell_type": "markdown",
   "metadata": {},
   "source": [
    "## Convert array of class matrix to one-hot-vector\n",
    "* __Problem 4__: Use keras function to one-hot-encode `y_train` and `y_test`. \n",
    "* Set to `Y_train` and `Y_test`"
   ]
  },
  {
   "cell_type": "code",
   "execution_count": 20,
   "metadata": {},
   "outputs": [
    {
     "name": "stdout",
     "output_type": "stream",
     "text": [
      "1\n"
     ]
    }
   ],
   "source": [
    "# Original class vector\n",
    "print(y_train[3])"
   ]
  },
  {
   "cell_type": "code",
   "execution_count": 13,
   "metadata": {},
   "outputs": [],
   "source": [
    "## Problem 4\n",
    "Y_train = utils.to_categorical(y_train, NB_CLASSES)\n",
    "Y_test = utils.to_categorical(y_test, NB_CLASSES)"
   ]
  },
  {
   "cell_type": "code",
   "execution_count": 12,
   "metadata": {},
   "outputs": [
    {
     "name": "stdout",
     "output_type": "stream",
     "text": [
      "[0. 1. 0. 0. 0. 0. 0. 0. 0. 0.]\n"
     ]
    }
   ],
   "source": [
    "# One-hot vector encoding\n",
    "print(Y_train[3])"
   ]
  },
  {
   "cell_type": "markdown",
   "metadata": {},
   "source": [
    "## Build Model\n",
    "* M_HIDDEN = 128 : Hidden units for each Dense layer\n",
    "* DROPOUT = 0.3 : Randomly setting 30% of weights to 0 at each update during training time\n",
    "* NB_CLASSES = 10 : Number of output classes\n",
    "* __Problem 5__ : Build Neural Network using Keras model functions\n",
    "* Look up `Sequential`, `Dense`, `Activation`\n",
    "* Print model `summary`"
   ]
  },
  {
   "cell_type": "code",
   "execution_count": 16,
   "metadata": {},
   "outputs": [
    {
     "name": "stdout",
     "output_type": "stream",
     "text": [
      "_________________________________________________________________\n",
      "Layer (type)                 Output Shape              Param #   \n",
      "=================================================================\n",
      "dense_3 (Dense)              (None, 128)               100480    \n",
      "_________________________________________________________________\n",
      "activation_3 (Activation)    (None, 128)               0         \n",
      "_________________________________________________________________\n",
      "dense_4 (Dense)              (None, 10)                1290      \n",
      "_________________________________________________________________\n",
      "activation_4 (Activation)    (None, 10)                0         \n",
      "=================================================================\n",
      "Total params: 101,770\n",
      "Trainable params: 101,770\n",
      "Non-trainable params: 0\n",
      "_________________________________________________________________\n"
     ]
    }
   ],
   "source": [
    "## Problem 5\n",
    "model = Sequential()\n",
    "model.add(Dense)\n"
   ]
  },
  {
   "cell_type": "markdown",
   "metadata": {},
   "source": [
    "## Model Compilation\n",
    "* Loss function : The loss value that will be minimized by the model will then be the sum of all individual losses\n",
    "* Optimizer : How to optimize the loss function\n",
    "* Metrics : Accuracy\n",
    "* __Problem 6__ : `compile` the model you built from Problem 5\n",
    "* Use appropriate loss function, optimizer, and performance metric"
   ]
  },
  {
   "cell_type": "code",
   "execution_count": 19,
   "metadata": {},
   "outputs": [],
   "source": [
    "## Problem 6"
   ]
  },
  {
   "cell_type": "markdown",
   "metadata": {},
   "source": [
    "## Fit Model\n",
    "* Batch Size : Number of samples per gradient update.\n",
    "* Epochs: An epoch is an iteration over the entire x and y data provided.\n",
    "* Validation Split: Fraction of the training data to be used as validation data. \n",
    "* __Problem 7__: Fit your model with appropriate batch size, number of epochs, verbosity, and validation split\n",
    "* Save model fit to a new variable named `history`"
   ]
  },
  {
   "cell_type": "code",
   "execution_count": 18,
   "metadata": {},
   "outputs": [
    {
     "name": "stdout",
     "output_type": "stream",
     "text": [
      "Train on 48000 samples, validate on 12000 samples\n",
      "Epoch 1/20\n",
      "48000/48000 [==============================] - 3s 58us/step - loss: 0.3664 - acc: 0.8992 - val_loss: 0.2044 - val_acc: 0.9447\n",
      "Epoch 2/20\n",
      "48000/48000 [==============================] - 2s 46us/step - loss: 0.1794 - acc: 0.9488 - val_loss: 0.1557 - val_acc: 0.9564\n",
      "Epoch 3/20\n",
      "48000/48000 [==============================] - 2s 46us/step - loss: 0.1290 - acc: 0.9630 - val_loss: 0.1224 - val_acc: 0.9647\n",
      "Epoch 4/20\n",
      "48000/48000 [==============================] - 2s 46us/step - loss: 0.1011 - acc: 0.9707 - val_loss: 0.1126 - val_acc: 0.9662\n",
      "Epoch 5/20\n",
      "48000/48000 [==============================] - 2s 46us/step - loss: 0.0817 - acc: 0.9760 - val_loss: 0.1032 - val_acc: 0.9714\n",
      "Epoch 6/20\n",
      "48000/48000 [==============================] - 2s 46us/step - loss: 0.0678 - acc: 0.9806 - val_loss: 0.0918 - val_acc: 0.9737\n",
      "Epoch 7/20\n",
      "48000/48000 [==============================] - 2s 47us/step - loss: 0.0575 - acc: 0.9836 - val_loss: 0.0900 - val_acc: 0.9732\n",
      "Epoch 8/20\n",
      "48000/48000 [==============================] - 2s 47us/step - loss: 0.0495 - acc: 0.9861 - val_loss: 0.0914 - val_acc: 0.9731\n",
      "Epoch 9/20\n",
      "48000/48000 [==============================] - 2s 46us/step - loss: 0.0424 - acc: 0.9880 - val_loss: 0.0869 - val_acc: 0.9745\n",
      "Epoch 10/20\n",
      "48000/48000 [==============================] - 2s 46us/step - loss: 0.0367 - acc: 0.9896 - val_loss: 0.0854 - val_acc: 0.9750\n",
      "Epoch 11/20\n",
      "48000/48000 [==============================] - 2s 46us/step - loss: 0.0319 - acc: 0.9912 - val_loss: 0.0865 - val_acc: 0.9757\n",
      "Epoch 12/20\n",
      "48000/48000 [==============================] - 2s 48us/step - loss: 0.0275 - acc: 0.9926 - val_loss: 0.0877 - val_acc: 0.9759\n",
      "Epoch 13/20\n",
      "48000/48000 [==============================] - 2s 47us/step - loss: 0.0237 - acc: 0.9937 - val_loss: 0.0897 - val_acc: 0.9769\n",
      "Epoch 14/20\n",
      "48000/48000 [==============================] - 2s 46us/step - loss: 0.0203 - acc: 0.9947 - val_loss: 0.0904 - val_acc: 0.9758\n",
      "Epoch 15/20\n",
      "48000/48000 [==============================] - 2s 46us/step - loss: 0.0176 - acc: 0.9955 - val_loss: 0.0947 - val_acc: 0.9758\n",
      "Epoch 16/20\n",
      "48000/48000 [==============================] - 2s 46us/step - loss: 0.0147 - acc: 0.9966 - val_loss: 0.0898 - val_acc: 0.9763\n",
      "Epoch 17/20\n",
      "48000/48000 [==============================] - 2s 46us/step - loss: 0.0129 - acc: 0.9969 - val_loss: 0.0889 - val_acc: 0.9774\n",
      "Epoch 18/20\n",
      "48000/48000 [==============================] - 2s 46us/step - loss: 0.0112 - acc: 0.9973 - val_loss: 0.0952 - val_acc: 0.9757\n",
      "Epoch 19/20\n",
      "48000/48000 [==============================] - 2s 47us/step - loss: 0.0092 - acc: 0.9979 - val_loss: 0.0951 - val_acc: 0.9762\n",
      "Epoch 20/20\n",
      "48000/48000 [==============================] - 2s 47us/step - loss: 0.0079 - acc: 0.9984 - val_loss: 0.0934 - val_acc: 0.9778\n"
     ]
    }
   ],
   "source": [
    "## Problem 7"
   ]
  },
  {
   "cell_type": "markdown",
   "metadata": {},
   "source": [
    "## Evaluate Test Accuracy\n",
    "* __Problem 8__ : Score your model using Keras functions"
   ]
  },
  {
   "cell_type": "code",
   "execution_count": 15,
   "metadata": {},
   "outputs": [
    {
     "name": "stdout",
     "output_type": "stream",
     "text": [
      "10000/10000 [==============================] - 0s 29us/step\n",
      "\n",
      "Test score: 0.0946132834445496\n",
      "Test accuracy: 0.9796\n"
     ]
    }
   ],
   "source": [
    "## Problem 8\n",
    "print(\"\\nTest score:\", score[0])\n",
    "print('Test accuracy:', score[1])"
   ]
  },
  {
   "cell_type": "markdown",
   "metadata": {},
   "source": [
    "## Evaluating Accuracy Over Epochs\n",
    "* __Problem 9__: Plot accuracy as a function of epochs\n",
    "* Use `history` for data to plot\n",
    "* Make sure to include plot labels"
   ]
  },
  {
   "cell_type": "code",
   "execution_count": 21,
   "metadata": {},
   "outputs": [
    {
     "data": {
      "image/png": "[encoded data removed]",
      "text/plain": [
       "<Figure size 432x288 with 1 Axes>"
      ]
     },
     "metadata": {},
     "output_type": "display_data"
    }
   ],
   "source": [
    "# summarize history for accuracy\n",
    "## Problem 9"
   ]
  },
  {
   "cell_type": "markdown",
   "metadata": {},
   "source": [
    "## Evaluating Loss Function Over Epochs\n",
    "* __Problem 10__: Plot loss function as a function of epochs\n",
    "* Use `history` for data to plot\n",
    "* Make sure to include plot labels"
   ]
  },
  {
   "cell_type": "code",
   "execution_count": 20,
   "metadata": {},
   "outputs": [
    {
     "data": {
      "image/png": "[encoded data removed]",
      "text/plain": [
       "<Figure size 432x288 with 1 Axes>"
      ]
     },
     "metadata": {},
     "output_type": "display_data"
    }
   ],
   "source": [
    "# summarize history for loss\n",
    "## Problem 10"
   ]
  },
  {
   "cell_type": "markdown",
   "metadata": {},
   "source": [
    "## Questions\n",
    "1. How does your first NN compare with the literature: https://rodrigob.github.io/are_we_there_yet/build/classification_datasets_results.html\n",
    "2. Is your model overfit or underfit? \n",
    "3. Does your model have high variance or low variance? "
   ]
  },
  {
   "cell_type": "code",
   "execution_count": null,
   "metadata": {},
   "outputs": [],
   "source": []
  }
 ],
 "metadata": {
  "anaconda-cloud": {},
  "kernelspec": {
   "display_name": "Python 3",
   "language": "python",
   "name": "python3"
  },
  "language_info": {
   "codemirror_mode": {
    "name": "ipython",
    "version": 3
   },
   "file_extension": ".py",
   "mimetype": "text/x-python",
   "name": "python",
   "nbconvert_exporter": "python",
   "pygments_lexer": "ipython3",
   "version": "3.7.4"
  }
 },
 "nbformat": 4,
 "nbformat_minor": 2
}
