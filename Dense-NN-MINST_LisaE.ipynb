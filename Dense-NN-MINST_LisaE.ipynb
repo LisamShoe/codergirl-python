{
 "cells": [
  {
   "cell_type": "markdown",
   "metadata": {},
   "source": [
    "Note for self \n",
    "\n",
    "Great reference: https://nextjournal.com/gkoehler/digit-recognition-with-keras"
   ]
  },
  {
   "cell_type": "markdown",
   "metadata": {},
   "source": [
    "## Import Packages"
   ]
  },
  {
   "cell_type": "code",
   "execution_count": 1,
   "metadata": {},
   "outputs": [
    {
     "name": "stderr",
     "output_type": "stream",
     "text": [
      "Using TensorFlow backend.\n"
     ]
    }
   ],
   "source": [
    "import numpy as np\n",
    "from keras.datasets import mnist\n",
    "from keras.models import Sequential\n",
    "from keras.layers.core import Dense, Dropout, Activation\n",
    "from keras.optimizers import RMSprop\n",
    "from keras.utils import np_utils\n",
    "import matplotlib.pyplot as plt"
   ]
  },
  {
   "cell_type": "markdown",
   "metadata": {},
   "source": [
    "## Initialize Training Parameters"
   ]
  },
  {
   "cell_type": "code",
   "execution_count": 2,
   "metadata": {},
   "outputs": [],
   "source": [
    "np.random.seed(1671)  # for reproducibility\n",
    "\n",
    "# network and training\n",
    "NB_EPOCH = 20\n",
    "BATCH_SIZE = 128 # Size of \n",
    "VERBOSE = 1\n",
    "NB_CLASSES = 10   # number of outputs = number of digits\n",
    "OPTIMIZER = RMSprop() # optimizer \n",
    "N_HIDDEN = 128 # number of hidden units\n",
    "VALIDATION_SPLIT=0.2 # how much TRAIN is reserved for VALIDATION\n",
    "DROPOUT = 0.3 # Used for regularization\n",
    "RESHAPED = 784 # Number of features to be used"
   ]
  },
  {
   "cell_type": "markdown",
   "metadata": {},
   "source": [
    "## Load MNIST Dataset into training and testing sets\n",
    "* __Problem 1__: Load MINST dataset using Keras function\n",
    "* Load into `X_train`, `y_train`, `X_test`, `y_test`"
   ]
  },
  {
   "cell_type": "code",
   "execution_count": 3,
   "metadata": {},
   "outputs": [],
   "source": [
    "# data: shuffled and split between train and test sets\n",
    "## Problem 1\n",
    "(X_train, y_train), (X_test, y_test) = mnist.load_data()\n"
   ]
  },
  {
   "cell_type": "markdown",
   "metadata": {},
   "source": [
    "## Reshape Input Data Frame\n",
    "* Input data is 28x28 greyscale values\n",
    "* Reshape to a 1D vector with 784 features\n",
    "* Training data consists of 60,000 examples\n",
    "* Final data reshaped into a tensor of 60,000 x 784\n",
    "* __Problem 2__: Reshape `X_train` and `X_test` vectors according to dimensions above\n",
    "* Cast type as `float32`"
   ]
  },
  {
   "cell_type": "code",
   "execution_count": 4,
   "metadata": {},
   "outputs": [],
   "source": [
    "X_train = X_train.reshape(X_train.shape[0], RESHAPED).astype('float32')\n",
    "X_test = X_test.reshape(X_test.shape[0], RESHAPED).astype('float32')"
   ]
  },
  {
   "cell_type": "code",
   "execution_count": 5,
   "metadata": {},
   "outputs": [
    {
     "data": {
      "text/plain": [
       "(60000, 784)"
      ]
     },
     "execution_count": 5,
     "metadata": {},
     "output_type": "execute_result"
    }
   ],
   "source": [
    "X_train.shape"
   ]
  },
  {
   "cell_type": "markdown",
   "metadata": {},
   "source": [
    "## Normalize Data\n",
    "* Greyscale data can be normalized by maximum value (255)\n",
    "* __Problem 3__: Normalize `X_train` and `X_test` vectors"
   ]
  },
  {
   "cell_type": "code",
   "execution_count": 6,
   "metadata": {},
   "outputs": [
    {
     "name": "stdout",
     "output_type": "stream",
     "text": [
      "60000 train samples\n",
      "10000 test samples\n"
     ]
    }
   ],
   "source": [
    "## Problem 3\n",
    "X_train /= 255\n",
    "X_test /= 255\n",
    "print(X_train.shape[0], 'train samples')\n",
    "print(X_test.shape[0], 'test samples')"
   ]
  },
  {
   "cell_type": "markdown",
   "metadata": {},
   "source": [
    "## Convert array of class matrix to one-hot-vector\n",
    "* __Problem 4__: Use keras function to one-hot-encode `y_train` and `y_test`. \n",
    "* Set to `Y_train` and `Y_test`"
   ]
  },
  {
   "cell_type": "code",
   "execution_count": 7,
   "metadata": {},
   "outputs": [
    {
     "name": "stdout",
     "output_type": "stream",
     "text": [
      "4\n"
     ]
    }
   ],
   "source": [
    "# Original class vector\n",
    "print(y_train[2])"
   ]
  },
  {
   "cell_type": "code",
   "execution_count": 8,
   "metadata": {},
   "outputs": [],
   "source": [
    "## Problem 4\n",
    "Y_train = np_utils.to_categorical(y_train, 10)\n",
    "Y_test = np_utils.to_categorical(y_test, 10)"
   ]
  },
  {
   "cell_type": "code",
   "execution_count": 9,
   "metadata": {},
   "outputs": [
    {
     "name": "stdout",
     "output_type": "stream",
     "text": [
      "[0. 0. 0. 0. 1. 0. 0. 0. 0. 0.]\n"
     ]
    }
   ],
   "source": [
    "# One-hot vector encoding\n",
    "print(Y_train[2])"
   ]
  },
  {
   "cell_type": "markdown",
   "metadata": {},
   "source": [
    "## Build Model\n",
    "* N_HIDDEN = 128 : Hidden units for each Dense layer\n",
    "* DROPOUT = 0.3 : Randomly setting 30% of weights to 0 at each update during training time\n",
    "* NB_CLASSES = 10 : Number of output classes\n",
    "* __Problem 5__ : Build Neural Network using Keras model functions\n",
    "* Look up `Sequential`, `Dense`, `Activation`\n",
    "* Print model `summary`"
   ]
  },
  {
   "cell_type": "code",
   "execution_count": 10,
   "metadata": {},
   "outputs": [
    {
     "name": "stdout",
     "output_type": "stream",
     "text": [
      "Model: \"sequential_1\"\n",
      "_________________________________________________________________\n",
      "Layer (type)                 Output Shape              Param #   \n",
      "=================================================================\n",
      "dense_1 (Dense)              (None, 128)               100480    \n",
      "_________________________________________________________________\n",
      "activation_1 (Activation)    (None, 128)               0         \n",
      "_________________________________________________________________\n",
      "dropout_1 (Dropout)          (None, 128)               0         \n",
      "_________________________________________________________________\n",
      "dense_2 (Dense)              (None, 10)                1290      \n",
      "_________________________________________________________________\n",
      "activation_2 (Activation)    (None, 10)                0         \n",
      "=================================================================\n",
      "Total params: 101,770\n",
      "Trainable params: 101,770\n",
      "Non-trainable params: 0\n",
      "_________________________________________________________________\n"
     ]
    }
   ],
   "source": [
    "## Problem 5\n",
    "#model = Sequential()\n",
    "#model.add(Dense(N_HIDDEN, activation='relu', input_shape=(784,)))\n",
    "#model.add(Dropout(DROPOUT))\n",
    "\n",
    "model = Sequential()\n",
    "model.add(Dense(N_HIDDEN, input_shape=(784,)))\n",
    "model.add(Activation('relu'))                            \n",
    "model.add(Dropout(DROPOUT))\n",
    "\n",
    "model.add(Dense(NB_CLASSES))\n",
    "model.add(Activation('softmax'))\n",
    "\n",
    "model.summary()"
   ]
  },
  {
   "cell_type": "code",
   "execution_count": 11,
   "metadata": {},
   "outputs": [
    {
     "name": "stdout",
     "output_type": "stream",
     "text": [
      "Model: \"sequential_1\"\n",
      "_________________________________________________________________\n",
      "Layer (type)                 Output Shape              Param #   \n",
      "=================================================================\n",
      "dense_1 (Dense)              (None, 128)               100480    \n",
      "_________________________________________________________________\n",
      "activation_1 (Activation)    (None, 128)               0         \n",
      "_________________________________________________________________\n",
      "dropout_1 (Dropout)          (None, 128)               0         \n",
      "_________________________________________________________________\n",
      "dense_2 (Dense)              (None, 10)                1290      \n",
      "_________________________________________________________________\n",
      "activation_2 (Activation)    (None, 10)                0         \n",
      "=================================================================\n",
      "Total params: 101,770\n",
      "Trainable params: 101,770\n",
      "Non-trainable params: 0\n",
      "_________________________________________________________________\n"
     ]
    }
   ],
   "source": [
    "model.summary()"
   ]
  },
  {
   "cell_type": "markdown",
   "metadata": {},
   "source": [
    "## Model Compilation\n",
    "* Loss function : The loss value that will be minimized by the model will then be the sum of all individual losses\n",
    "* Optimizer : How to optimize the loss function\n",
    "* Metrics : Accuracy\n",
    "* __Problem 6__ : `compile` the model you built from Problem 5\n",
    "* Use appropriate loss function, optimizer, and performance metric"
   ]
  },
  {
   "cell_type": "code",
   "execution_count": 12,
   "metadata": {},
   "outputs": [],
   "source": [
    "## Problem 6\n",
    "model.compile(loss='categorical_crossentropy', metrics=['accuracy'], optimizer=OPTIMIZER)"
   ]
  },
  {
   "cell_type": "markdown",
   "metadata": {},
   "source": [
    "## Fit Model\n",
    "* Batch Size : Number of samples per gradient update.\n",
    "* Epochs: An epoch is an iteration over the entire x and y data provided.\n",
    "* Validation Split: Fraction of the training data to be used as validation data. \n",
    "* __Problem 7__: Fit your model with appropriate batch size, number of epochs, verbosity, and validation split\n",
    "* Save model fit to a new variable named `history`"
   ]
  },
  {
   "cell_type": "code",
   "execution_count": 13,
   "metadata": {},
   "outputs": [
    {
     "name": "stdout",
     "output_type": "stream",
     "text": [
      "Train on 48000 samples, validate on 12000 samples\n",
      "Epoch 1/20\n",
      "48000/48000 [==============================] - 2s 34us/step - loss: 0.4383 - accuracy: 0.8739 - val_loss: 0.2087 - val_accuracy: 0.9433\n",
      "Epoch 2/20\n",
      "48000/48000 [==============================] - 1s 26us/step - loss: 0.2232 - accuracy: 0.9363 - val_loss: 0.1555 - val_accuracy: 0.9564\n",
      "Epoch 3/20\n",
      "48000/48000 [==============================] - 1s 27us/step - loss: 0.1724 - accuracy: 0.9500 - val_loss: 0.1295 - val_accuracy: 0.9624\n",
      "Epoch 4/20\n",
      "48000/48000 [==============================] - 1s 27us/step - loss: 0.1454 - accuracy: 0.9569 - val_loss: 0.1152 - val_accuracy: 0.9668\n",
      "Epoch 5/20\n",
      "48000/48000 [==============================] - 1s 25us/step - loss: 0.1268 - accuracy: 0.9630 - val_loss: 0.1054 - val_accuracy: 0.9696\n",
      "Epoch 6/20\n",
      "48000/48000 [==============================] - 1s 25us/step - loss: 0.1138 - accuracy: 0.9656 - val_loss: 0.1006 - val_accuracy: 0.9710\n",
      "Epoch 7/20\n",
      "48000/48000 [==============================] - 1s 27us/step - loss: 0.1046 - accuracy: 0.9683 - val_loss: 0.0982 - val_accuracy: 0.9715\n",
      "Epoch 8/20\n",
      "48000/48000 [==============================] - 1s 26us/step - loss: 0.0967 - accuracy: 0.9716 - val_loss: 0.0932 - val_accuracy: 0.9739\n",
      "Epoch 9/20\n",
      "48000/48000 [==============================] - 1s 26us/step - loss: 0.0909 - accuracy: 0.9731 - val_loss: 0.0913 - val_accuracy: 0.9747\n",
      "Epoch 10/20\n",
      "48000/48000 [==============================] - 1s 26us/step - loss: 0.0866 - accuracy: 0.9735 - val_loss: 0.0931 - val_accuracy: 0.9745\n",
      "Epoch 11/20\n",
      "48000/48000 [==============================] - 1s 26us/step - loss: 0.0823 - accuracy: 0.9755 - val_loss: 0.0912 - val_accuracy: 0.9756\n",
      "Epoch 12/20\n",
      "48000/48000 [==============================] - 1s 26us/step - loss: 0.0777 - accuracy: 0.9761 - val_loss: 0.0890 - val_accuracy: 0.9763\n",
      "Epoch 13/20\n",
      "48000/48000 [==============================] - 1s 26us/step - loss: 0.0741 - accuracy: 0.9778 - val_loss: 0.0960 - val_accuracy: 0.9754\n",
      "Epoch 14/20\n",
      "48000/48000 [==============================] - 1s 26us/step - loss: 0.0718 - accuracy: 0.9776 - val_loss: 0.0889 - val_accuracy: 0.9772\n",
      "Epoch 15/20\n",
      "48000/48000 [==============================] - 1s 26us/step - loss: 0.0692 - accuracy: 0.9791 - val_loss: 0.0904 - val_accuracy: 0.9774\n",
      "Epoch 16/20\n",
      "48000/48000 [==============================] - 1s 27us/step - loss: 0.0649 - accuracy: 0.9808 - val_loss: 0.0907 - val_accuracy: 0.9777\n",
      "Epoch 17/20\n",
      "48000/48000 [==============================] - 1s 27us/step - loss: 0.0629 - accuracy: 0.9816 - val_loss: 0.0895 - val_accuracy: 0.9787\n",
      "Epoch 18/20\n",
      "48000/48000 [==============================] - 1s 26us/step - loss: 0.0617 - accuracy: 0.9809 - val_loss: 0.0902 - val_accuracy: 0.9781\n",
      "Epoch 19/20\n",
      "48000/48000 [==============================] - 1s 26us/step - loss: 0.0614 - accuracy: 0.9813 - val_loss: 0.0924 - val_accuracy: 0.9785\n",
      "Epoch 20/20\n",
      "48000/48000 [==============================] - 1s 25us/step - loss: 0.0561 - accuracy: 0.9827 - val_loss: 0.0931 - val_accuracy: 0.9781\n"
     ]
    }
   ],
   "source": [
    "## Problem 7\n",
    "history = model.fit(X_train, Y_train,\n",
    "          batch_size=BATCH_SIZE, epochs=NB_EPOCH,\n",
    "          verbose=VERBOSE,\n",
    "          validation_split=VALIDATION_SPLIT)"
   ]
  },
  {
   "cell_type": "markdown",
   "metadata": {},
   "source": [
    "## Evaluate Test Accuracy\n",
    "* __Problem 8__ : Score your model using Keras functions"
   ]
  },
  {
   "cell_type": "code",
   "execution_count": 14,
   "metadata": {},
   "outputs": [
    {
     "name": "stdout",
     "output_type": "stream",
     "text": [
      "10000/10000 [==============================] - 0s 22us/step\n",
      "\n",
      "Test score: 0.08227483672299422\n",
      "Test accuracy: 0.9786999821662903\n"
     ]
    }
   ],
   "source": [
    "## Problem 8\n",
    "score = model.evaluate(X_test, Y_test, verbose=VERBOSE)\n",
    "print(\"\\nTest score:\", score[0])\n",
    "print('Test accuracy:', score[1])"
   ]
  },
  {
   "cell_type": "markdown",
   "metadata": {},
   "source": [
    "## Evaluating Accuracy Over Epochs\n",
    "* __Problem 9__: Plot accuracy as a function of epochs\n",
    "* Use `history` for data to plot\n",
    "* Make sure to include plot labels"
   ]
  },
  {
   "cell_type": "code",
   "execution_count": 15,
   "metadata": {},
   "outputs": [
    {
     "data": {
      "image/png": "[encoded data removed]",
      "text/plain": [
       "<Figure size 432x288 with 1 Axes>"
      ]
     },
     "metadata": {
      "needs_background": "light"
     },
     "output_type": "display_data"
    }
   ],
   "source": [
    "# summarize history for accuracy\n",
    "## Problem 9\n",
    "plt.plot(history.history['accuracy'])\n",
    "plt.plot(history.history['val_accuracy'])\n",
    "plt.title('model accuracy')\n",
    "plt.xlabel('epoch')\n",
    "plt.ylabel('accuracy')\n",
    "plt.legend(['train','test'])\n",
    "plt.show()"
   ]
  },
  {
   "cell_type": "markdown",
   "metadata": {},
   "source": [
    "## Evaluating Loss Function Over Epochs\n",
    "* __Problem 10__: Plot loss function as a function of epochs\n",
    "* Use `history` for data to plot\n",
    "* Make sure to include plot labels"
   ]
  },
  {
   "cell_type": "code",
   "execution_count": 18,
   "metadata": {},
   "outputs": [
    {
     "data": {
      "image/png": "[encoded data removed]",
      "text/plain": [
       "<Figure size 432x288 with 1 Axes>"
      ]
     },
     "metadata": {
      "needs_background": "light"
     },
     "output_type": "display_data"
    }
   ],
   "source": [
    "# summarize history for loss\n",
    "## Problem 10\n",
    "plt.plot(history.history['loss'])\n",
    "plt.plot(history.history['val_loss'])\n",
    "plt.title('Model loss')\n",
    "plt.ylabel('Loss')\n",
    "plt.xlabel('Epoch')\n",
    "plt.legend(['Train', 'Test'], loc='upper left')\n",
    "plt.show()"
   ]
  },
  {
   "cell_type": "markdown",
   "metadata": {},
   "source": [
    "## Questions\n",
    "1. How does your first NN compare with the literature: https://rodrigob.github.io/are_we_there_yet/build/classification_datasets_results.html\n",
    "2. Is your model overfit or underfit? \n",
    "3. Does your model have high variance or low variance? "
   ]
  },
  {
   "cell_type": "code",
   "execution_count": null,
   "metadata": {},
   "outputs": [],
   "source": []
  }
 ],
 "metadata": {
  "anaconda-cloud": {},
  "kernelspec": {
   "display_name": "Python 3",
   "language": "python",
   "name": "python3"
  },
  "language_info": {
   "codemirror_mode": {
    "name": "ipython",
    "version": 3
   },
   "file_extension": ".py",
   "mimetype": "text/x-python",
   "name": "python",
   "nbconvert_exporter": "python",
   "pygments_lexer": "ipython3",
   "version": "3.7.4"
  }
 },
 "nbformat": 4,
 "nbformat_minor": 2
}
